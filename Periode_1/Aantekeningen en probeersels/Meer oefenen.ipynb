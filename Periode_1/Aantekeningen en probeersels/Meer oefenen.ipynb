{
 "cells": [
  {
   "cell_type": "code",
   "execution_count": null,
   "id": "48adaf65",
   "metadata": {},
   "outputs": [],
   "source": [
    "mylist = [1,2,3]"
   ]
  },
  {
   "cell_type": "code",
   "execution_count": null,
   "id": "5ef57eda",
   "metadata": {},
   "outputs": [],
   "source": [
    "myset = set()"
   ]
  },
  {
   "cell_type": "code",
   "execution_count": null,
   "id": "5061536f",
   "metadata": {},
   "outputs": [],
   "source": [
    "type (myset)"
   ]
  },
  {
   "cell_type": "code",
   "execution_count": null,
   "id": "8190fc27",
   "metadata": {},
   "outputs": [],
   "source": [
    "class Dog():\n",
    "    \n",
    "    #CLASS OBJECT ATTRIBUTE\n",
    "    species = 'mammal'\n",
    "    \n",
    "    def __init__(self, breed,name):\n",
    "        self.breed = breed\n",
    "        self.name =name\n",
    "        \n",
    "     \n",
    "    \n",
    "    def bark(self,number): \n",
    "        print ('WOEF! My name is {} and the number is {}'.format(self.name,number))"
   ]
  },
  {
   "cell_type": "code",
   "execution_count": null,
   "id": "c19ec30f",
   "metadata": {},
   "outputs": [],
   "source": [
    "my_dog = Dog('Lab', 'Aron')"
   ]
  },
  {
   "cell_type": "code",
   "execution_count": null,
   "id": "0ec6a158",
   "metadata": {},
   "outputs": [],
   "source": [
    "type (my_dog)"
   ]
  },
  {
   "cell_type": "code",
   "execution_count": null,
   "id": "36619ac4",
   "metadata": {},
   "outputs": [],
   "source": [
    "my_dog.name"
   ]
  },
  {
   "cell_type": "code",
   "execution_count": null,
   "id": "3503a153",
   "metadata": {},
   "outputs": [],
   "source": [
    "my_dog.bark(10)"
   ]
  },
  {
   "cell_type": "code",
   "execution_count": null,
   "id": "2ca22b41",
   "metadata": {},
   "outputs": [],
   "source": []
  },
  {
   "cell_type": "code",
   "execution_count": null,
   "id": "a941f9c3",
   "metadata": {},
   "outputs": [],
   "source": []
  },
  {
   "cell_type": "code",
   "execution_count": null,
   "id": "6c34795b",
   "metadata": {},
   "outputs": [],
   "source": []
  },
  {
   "cell_type": "code",
   "execution_count": null,
   "id": "9ea4f27d",
   "metadata": {},
   "outputs": [],
   "source": [
    "class Circle ():\n",
    "    \n",
    "    pi = 3.14\n",
    "    \n",
    "    def __init__ (self, radius=1):\n",
    "        \n",
    "        self.radius = radius\n",
    "        self.area = radius*radius*self.pi\n",
    "        \n",
    "    #method\n",
    "    def get_circumfrence (self):\n",
    "        return self.radius *self.pi* 2"
   ]
  },
  {
   "cell_type": "code",
   "execution_count": null,
   "id": "09122fb6",
   "metadata": {},
   "outputs": [],
   "source": [
    "my_circle = Circle(30)"
   ]
  },
  {
   "cell_type": "code",
   "execution_count": null,
   "id": "ec93a0cf",
   "metadata": {},
   "outputs": [],
   "source": [
    "my_circle.get_circumfrence"
   ]
  },
  {
   "cell_type": "code",
   "execution_count": null,
   "id": "f5e1203c",
   "metadata": {},
   "outputs": [],
   "source": [
    "my_circle.area"
   ]
  },
  {
   "cell_type": "code",
   "execution_count": null,
   "id": "cffe80d1",
   "metadata": {},
   "outputs": [],
   "source": []
  },
  {
   "cell_type": "code",
   "execution_count": null,
   "id": "abdbeb93",
   "metadata": {},
   "outputs": [],
   "source": []
  },
  {
   "cell_type": "code",
   "execution_count": null,
   "id": "935bcd3c",
   "metadata": {},
   "outputs": [],
   "source": []
  },
  {
   "cell_type": "code",
   "execution_count": null,
   "id": "7e82d3c0",
   "metadata": {},
   "outputs": [],
   "source": []
  },
  {
   "cell_type": "code",
   "execution_count": 11,
   "id": "45ae0bb0",
   "metadata": {},
   "outputs": [],
   "source": [
    "class Animal():\n",
    "    \n",
    "    def __init__ (self):\n",
    "        print ('ANIMAL CREATED')\n",
    "        \n",
    "    def who_am_i(self):\n",
    "        print ('I am an animal')\n",
    "        \n",
    "    def eat(self):\n",
    "        print ('I am eating')"
   ]
  },
  {
   "cell_type": "code",
   "execution_count": 2,
   "id": "e3560c5d",
   "metadata": {},
   "outputs": [
    {
     "name": "stdout",
     "output_type": "stream",
     "text": [
      "ANIMAL CREATED\n"
     ]
    }
   ],
   "source": [
    "myanimal = Animal ()"
   ]
  },
  {
   "cell_type": "code",
   "execution_count": 23,
   "id": "2e540fe4",
   "metadata": {},
   "outputs": [],
   "source": [
    "class Dog(Animal):\n",
    "    def __init__ (self):\n",
    "        Animal.__init__(self)\n",
    "        print ('Dog created')\n",
    "        \n",
    "    def who_am_i (self):\n",
    "        print ('DOGG')\n",
    "        \n",
    "    def bark(self):\n",
    "        print ('WOOF')"
   ]
  },
  {
   "cell_type": "code",
   "execution_count": 24,
   "id": "0bfd4e90",
   "metadata": {},
   "outputs": [
    {
     "name": "stdout",
     "output_type": "stream",
     "text": [
      "ANIMAL CREATED\n",
      "Dog created\n"
     ]
    }
   ],
   "source": [
    "mydog = Dog()"
   ]
  },
  {
   "cell_type": "code",
   "execution_count": 25,
   "id": "eb4798d3",
   "metadata": {},
   "outputs": [
    {
     "name": "stdout",
     "output_type": "stream",
     "text": [
      "DOGG\n"
     ]
    }
   ],
   "source": [
    "mydog.who_am_i()"
   ]
  },
  {
   "cell_type": "code",
   "execution_count": 27,
   "id": "c917d7ae",
   "metadata": {},
   "outputs": [
    {
     "name": "stdout",
     "output_type": "stream",
     "text": [
      "WOOF\n"
     ]
    }
   ],
   "source": [
    "mydog.bark()"
   ]
  },
  {
   "cell_type": "code",
   "execution_count": null,
   "id": "797da389",
   "metadata": {},
   "outputs": [],
   "source": []
  },
  {
   "cell_type": "code",
   "execution_count": null,
   "id": "b973a058",
   "metadata": {},
   "outputs": [],
   "source": []
  },
  {
   "cell_type": "code",
   "execution_count": 28,
   "id": "307cb337",
   "metadata": {},
   "outputs": [],
   "source": [
    "mylist = [1,2,3]"
   ]
  },
  {
   "cell_type": "code",
   "execution_count": 29,
   "id": "d211a0df",
   "metadata": {},
   "outputs": [],
   "source": [
    "class Sample():\n",
    "    pass"
   ]
  },
  {
   "cell_type": "code",
   "execution_count": 30,
   "id": "2fadea87",
   "metadata": {},
   "outputs": [],
   "source": [
    "mysample=Sample()"
   ]
  },
  {
   "cell_type": "code",
   "execution_count": 41,
   "id": "e2b398c7",
   "metadata": {},
   "outputs": [],
   "source": [
    "class Book():\n",
    "    \n",
    "    def __init__(self,title,author,pages):\n",
    "        self.title = title\n",
    "        self.author = author\n",
    "        self.pages = pages\n",
    "        \n",
    "    def __str__(self):\n",
    "        return f\"{self.title} by {self.author}\"\n",
    "    \n",
    "    def __len__(self):\n",
    "        return self.pages\n",
    "    \n",
    "    def __del__(self):\n",
    "        print ('Een boek is verwijderd.')"
   ]
  },
  {
   "cell_type": "code",
   "execution_count": 42,
   "id": "bb0894d3",
   "metadata": {},
   "outputs": [],
   "source": [
    "b= Book ('Moby Dick','Aron', 200)"
   ]
  },
  {
   "cell_type": "code",
   "execution_count": 43,
   "id": "8f2df35b",
   "metadata": {},
   "outputs": [
    {
     "name": "stdout",
     "output_type": "stream",
     "text": [
      "Moby Dick by Aron\n"
     ]
    }
   ],
   "source": [
    "print (b)"
   ]
  },
  {
   "cell_type": "code",
   "execution_count": 38,
   "id": "380a52cb",
   "metadata": {},
   "outputs": [
    {
     "data": {
      "text/plain": [
       "200"
      ]
     },
     "execution_count": 38,
     "metadata": {},
     "output_type": "execute_result"
    }
   ],
   "source": [
    "len (b)"
   ]
  },
  {
   "cell_type": "code",
   "execution_count": 44,
   "id": "a72501ab",
   "metadata": {},
   "outputs": [
    {
     "name": "stdout",
     "output_type": "stream",
     "text": [
      "Een boek is verwijderd.\n"
     ]
    }
   ],
   "source": [
    "del b"
   ]
  },
  {
   "cell_type": "code",
   "execution_count": 40,
   "id": "0af559e0",
   "metadata": {},
   "outputs": [
    {
     "ename": "NameError",
     "evalue": "name 'b' is not defined",
     "output_type": "error",
     "traceback": [
      "\u001b[1;31m---------------------------------------------------------------------------\u001b[0m",
      "\u001b[1;31mNameError\u001b[0m                                 Traceback (most recent call last)",
      "\u001b[1;32m<ipython-input-40-89e6c98d9288>\u001b[0m in \u001b[0;36m<module>\u001b[1;34m\u001b[0m\n\u001b[1;32m----> 1\u001b[1;33m \u001b[0mb\u001b[0m\u001b[1;33m\u001b[0m\u001b[1;33m\u001b[0m\u001b[0m\n\u001b[0m",
      "\u001b[1;31mNameError\u001b[0m: name 'b' is not defined"
     ]
    }
   ],
   "source": [
    "b"
   ]
  },
  {
   "cell_type": "code",
   "execution_count": null,
   "id": "0c4b1d1c",
   "metadata": {},
   "outputs": [],
   "source": []
  },
  {
   "cell_type": "code",
   "execution_count": null,
   "id": "6a96baa1",
   "metadata": {},
   "outputs": [],
   "source": []
  },
  {
   "cell_type": "code",
   "execution_count": null,
   "id": "7e494d08",
   "metadata": {},
   "outputs": [],
   "source": []
  },
  {
   "cell_type": "code",
   "execution_count": 6,
   "id": "9861f2d5",
   "metadata": {},
   "outputs": [
    {
     "name": "stdout",
     "output_type": "stream",
     "text": [
      "Het werkt!\n",
      "20\n"
     ]
    }
   ],
   "source": [
    "try:\n",
    "    result = 10 + 10\n",
    "    \n",
    "except:\n",
    "    print (\"Hey je telt niks op\")\n",
    "    \n",
    "else:\n",
    "    print (\"Het werkt!\")\n",
    "    print (result)"
   ]
  },
  {
   "cell_type": "code",
   "execution_count": 2,
   "id": "374ffacf",
   "metadata": {},
   "outputs": [
    {
     "data": {
      "text/plain": [
       "20"
      ]
     },
     "execution_count": 2,
     "metadata": {},
     "output_type": "execute_result"
    }
   ],
   "source": [
    "result"
   ]
  },
  {
   "cell_type": "code",
   "execution_count": null,
   "id": "1d25ca61",
   "metadata": {},
   "outputs": [],
   "source": []
  },
  {
   "cell_type": "code",
   "execution_count": null,
   "id": "4baa4e79",
   "metadata": {},
   "outputs": [],
   "source": []
  },
  {
   "cell_type": "code",
   "execution_count": null,
   "id": "ec88d9b5",
   "metadata": {},
   "outputs": [],
   "source": []
  },
  {
   "cell_type": "code",
   "execution_count": 9,
   "id": "d3422f9a",
   "metadata": {},
   "outputs": [
    {
     "name": "stdout",
     "output_type": "stream",
     "text": [
      "Een OS error\n",
      "Ik werk altijd\n"
     ]
    }
   ],
   "source": [
    "try:\n",
    "    f = open(\"testfile\", \"r\")\n",
    "    f.write (\"Write a test line\")\n",
    "except TypeError:\n",
    "    print ('Er is een typoo')\n",
    "except OSError:\n",
    "    print ('Een OS error')\n",
    "finally:\n",
    "    print ('Ik werk altijd')"
   ]
  },
  {
   "cell_type": "code",
   "execution_count": null,
   "id": "a957224a",
   "metadata": {},
   "outputs": [],
   "source": []
  }
 ],
 "metadata": {
  "kernelspec": {
   "display_name": "Python 3",
   "language": "python",
   "name": "python3"
  },
  "language_info": {
   "codemirror_mode": {
    "name": "ipython",
    "version": 3
   },
   "file_extension": ".py",
   "mimetype": "text/x-python",
   "name": "python",
   "nbconvert_exporter": "python",
   "pygments_lexer": "ipython3",
   "version": "3.8.8"
  }
 },
 "nbformat": 4,
 "nbformat_minor": 5
}
